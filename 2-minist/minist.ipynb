{
 "cells": [
  {
   "cell_type": "code",
   "execution_count": 17,
   "metadata": {},
   "outputs": [],
   "source": [
    "import torch\n",
    "from torch import nn\n",
    "from torch.utils.data import Dataset, DataLoader\n",
    "from torch import optim\n",
    "import pandas as pd\n",
    "import matplotlib.pyplot as plt"
   ]
  },
  {
   "attachments": {},
   "cell_type": "markdown",
   "metadata": {},
   "source": [
    "# 1-Dataset"
   ]
  },
  {
   "cell_type": "code",
   "execution_count": 18,
   "metadata": {},
   "outputs": [],
   "source": [
    "#实现数据集，都是这种写法，继承dataset，实现类，其中包含这三个函数\n",
    "class MinistDataset(Dataset): #自定义dataset,需要继承自pytorch提供的Dataset类\n",
    "    def __init__(self, filename): #初始化\n",
    "        self.data = pd.read_csv(filename) #转换成属性\n",
    "\n",
    "    def __len__(self):\n",
    "        \n",
    "        return self.data.shape[0] #返回数据长度,只有加上这个才可以获得数据长度\n",
    "\n",
    "    def __getitem__(self, idx): # 使数据能够进行索引\n",
    "        I = self.data.iloc[idx]\n",
    "        label = I[0]\n",
    "        img = I[1:].to_numpy().reshape(28,28)\n",
    "        img = torch.from_numpy(img) # 输出tensor\n",
    "        return img, label #最终输出结果包括图像tensor和lable，二者是一个元组"
   ]
  },
  {
   "cell_type": "code",
   "execution_count": 19,
   "metadata": {},
   "outputs": [],
   "source": [
    "# 训练集和测试集\n",
    "train_dataset = MinistDataset(r'E:\\ZhangXueHuan\\Projects\\data\\Minist\\mnist_train.csv')\n",
    "test_dataset = MinistDataset(r'E:\\ZhangXueHuan\\Projects\\data\\Minist\\mnist_test.csv')"
   ]
  },
  {
   "attachments": {},
   "cell_type": "markdown",
   "metadata": {},
   "source": [
    "## 1.1 实例化代码+图形显示"
   ]
  },
  {
   "cell_type": "code",
   "execution_count": 21,
   "metadata": {},
   "outputs": [
    {
     "data": {
      "text/plain": [
       "<matplotlib.image.AxesImage at 0x16b70864940>"
      ]
     },
     "execution_count": 21,
     "metadata": {},
     "output_type": "execute_result"
    },
    {
     "data": {
      "image/png": "[encoded data removed]",
      "text/plain": [
       "<Figure size 640x480 with 1 Axes>"
      ]
     },
     "metadata": {},
     "output_type": "display_data"
    }
   ],
   "source": [
    "dataset = MinistDataset(r'E:\\ZhangXueHuan\\Projects\\data\\Minist\\mnist_test.csv')\n",
    "img = dataset[0][0].numpy()\n",
    "plt.imshow(img,cmap='gray')"
   ]
  },
  {
   "attachments": {},
   "cell_type": "markdown",
   "metadata": {},
   "source": [
    "# 2-Dataloader"
   ]
  },
  {
   "cell_type": "code",
   "execution_count": 22,
   "metadata": {},
   "outputs": [],
   "source": [
    "BATCH_SIZE = 64\n",
    "train_dataloader = DataLoader(train_dataset, batch_size=BATCH_SIZE, shuffle=True) # batch_size,随机梯度下降中的样本量，损失函数的梯度，小批量梯度下降\n",
    "test_dataloader = DataLoader(test_dataset, batch_size=BATCH_SIZE, shuffle=False)# shuffle打乱顺序,一般训练的时候设置为true,测试的时候设置为false"
   ]
  },
  {
   "attachments": {},
   "cell_type": "markdown",
   "metadata": {},
   "source": [
    "# 3-Network"
   ]
  },
  {
   "cell_type": "code",
   "execution_count": 56,
   "metadata": {},
   "outputs": [],
   "source": [
    "class NeuralNetwork(nn.Module): #继承自nn.Module\n",
    "    def __init__(self):\n",
    "        super(NeuralNetwork, self).__init__() #调用父类的初始化函数，一定要写\n",
    "        self.flatten = nn.Flatten()\n",
    "        self.w1 = nn.Linear(28*28, 512)\n",
    "        self.relu1 = nn.ReLU()\n",
    "        self.w2 = nn.Linear(512, 512)\n",
    "        self.relu2 = nn.ReLU()\n",
    "        self.w3 = nn.Linear(512, 10)\n",
    "\n",
    "    def forward(self, x):\n",
    "        x = self.flatten(x) # 维度是 (64*784)\n",
    "        x1 = self.w1(x)  #维度是 (64*512)\n",
    "        x1 = self.relu1(x1)\n",
    "        x2 = self.w2(x1) #维度是 (64*512)\n",
    "        x2 = self.relu2(x2)\n",
    "        x3 = self.w3(x2) #维度是 (64*10)\n",
    "        return x3"
   ]
  },
  {
   "cell_type": "code",
   "execution_count": 57,
   "metadata": {},
   "outputs": [
    {
     "name": "stdout",
     "output_type": "stream",
     "text": [
      "NeuralNetwork(\n",
      "  (flatten): Flatten(start_dim=1, end_dim=-1)\n",
      "  (w1): Linear(in_features=784, out_features=512, bias=True)\n",
      "  (relu1): ReLU()\n",
      "  (w2): Linear(in_features=512, out_features=512, bias=True)\n",
      "  (relu2): ReLU()\n",
      "  (w3): Linear(in_features=512, out_features=10, bias=True)\n",
      ")\n"
     ]
    }
   ],
   "source": [
    "model = NeuralNetwork()\n",
    "print(model)"
   ]
  },
  {
   "attachments": {},
   "cell_type": "markdown",
   "metadata": {},
   "source": [
    "# 4-Loss"
   ]
  },
  {
   "cell_type": "code",
   "execution_count": 58,
   "metadata": {},
   "outputs": [],
   "source": [
    "lossfn = nn.CrossEntropyLoss() # 里面包含softmax,多分类用softmax结束"
   ]
  },
  {
   "attachments": {},
   "cell_type": "markdown",
   "metadata": {},
   "source": [
    "# 5-Optimizer"
   ]
  },
  {
   "cell_type": "code",
   "execution_count": 59,
   "metadata": {},
   "outputs": [],
   "source": [
    "optimizer = optim.SGD(model.parameters(), lr=0.001, momentum=0.9)"
   ]
  },
  {
   "attachments": {},
   "cell_type": "markdown",
   "metadata": {},
   "source": [
    "# 6-Training"
   ]
  },
  {
   "cell_type": "code",
   "execution_count": 60,
   "metadata": {},
   "outputs": [
    {
     "name": "stdout",
     "output_type": "stream",
     "text": [
      "Epoch: 0, Loss: 0.08889316022396088\n",
      "Epoch: 1, Loss: 0.009032298810780048\n",
      "Epoch: 2, Loss: 0.012695902027189732\n",
      "Epoch: 3, Loss: 0.0461934357881546\n",
      "Epoch: 4, Loss: 0.010200911201536655\n",
      "Epoch: 5, Loss: 0.04269098490476608\n",
      "Epoch: 6, Loss: 0.0010353873949497938\n",
      "Epoch: 7, Loss: 0.0015417846152558923\n",
      "Epoch: 8, Loss: 0.000332112074829638\n",
      "Epoch: 9, Loss: 6.458220013882965e-05\n",
      "Epoch: 10, Loss: 0.0010066889226436615\n",
      "Epoch: 11, Loss: 7.263342558871955e-05\n",
      "Epoch: 12, Loss: 5.723915091948584e-05\n",
      "Epoch: 13, Loss: 0.0003767212911043316\n",
      "Epoch: 14, Loss: 0.0003650240832939744\n",
      "Epoch: 15, Loss: 0.0002541272551752627\n",
      "Epoch: 16, Loss: 0.00023909831361379474\n",
      "Epoch: 17, Loss: 5.106913158670068e-05\n",
      "Epoch: 18, Loss: 5.341948053683154e-05\n",
      "Epoch: 19, Loss: 1.7261621906072833e-05\n",
      "Epoch: 20, Loss: 2.546813993831165e-05\n",
      "Epoch: 21, Loss: 0.00021088293578941375\n",
      "Epoch: 22, Loss: 8.490209438605234e-05\n",
      "Epoch: 23, Loss: 0.00010880733316298574\n",
      "Epoch: 24, Loss: 0.00013416557339951396\n",
      "Epoch: 25, Loss: 0.0001070144135155715\n",
      "Epoch: 26, Loss: 5.6695780585869215e-06\n",
      "Epoch: 27, Loss: 0.0003165247617289424\n",
      "Epoch: 28, Loss: 0.00013567181304097176\n",
      "Epoch: 29, Loss: 8.011625322978944e-05\n"
     ]
    }
   ],
   "source": [
    "EPOCHES = 30\n",
    "losses = []\n",
    "for i in range(EPOCHES):\n",
    "    for img, label in train_dataloader:\n",
    "        img = img.float()\n",
    "        preds = model.forward(img)\n",
    "        loss = lossfn(preds, label)\n",
    "        # backforward\n",
    "        optimizer.zero_grad() #每一步反向传播之前需要清零梯度\n",
    "        loss.backward() #求导\n",
    "        optimizer.step() #梯度下降\n",
    "    losses.append(loss.item())\n",
    "    print(f'Epoch: {i}, Loss: {loss.item()}')"
   ]
  },
  {
   "cell_type": "code",
   "execution_count": 61,
   "metadata": {},
   "outputs": [
    {
     "data": {
      "text/plain": [
       "[<matplotlib.lines.Line2D at 0x16ba1bb46d0>]"
      ]
     },
     "execution_count": 61,
     "metadata": {},
     "output_type": "execute_result"
    },
    {
     "data": {
      "image/png": "[encoded data removed]",
      "text/plain": [
       "<Figure size 640x480 with 1 Axes>"
      ]
     },
     "metadata": {},
     "output_type": "display_data"
    }
   ],
   "source": [
    "plt.plot(range(EPOCHES),losses)"
   ]
  },
  {
   "attachments": {},
   "cell_type": "markdown",
   "metadata": {},
   "source": [
    "# Test"
   ]
  },
  {
   "cell_type": "code",
   "execution_count": null,
   "metadata": {},
   "outputs": [],
   "source": []
  }
 ],
 "metadata": {
  "kernelspec": {
   "display_name": "base",
   "language": "python",
   "name": "python3"
  },
  "language_info": {
   "codemirror_mode": {
    "name": "ipython",
    "version": 3
   },
   "file_extension": ".py",
   "mimetype": "text/x-python",
   "name": "python",
   "nbconvert_exporter": "python",
   "pygments_lexer": "ipython3",
   "version": "3.9.13"
  },
  "orig_nbformat": 4,
  "vscode": {
   "interpreter": {
    "hash": "cd60077df1394f440bc191a8c3208e6eca38e365a776c10238b66348bbe39164"
   }
  }
 },
 "nbformat": 4,
 "nbformat_minor": 2
}
